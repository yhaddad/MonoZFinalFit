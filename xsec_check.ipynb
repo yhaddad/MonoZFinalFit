{
 "cells": [
  {
   "cell_type": "code",
   "execution_count": 19,
   "metadata": {},
   "outputs": [],
   "source": [
    "import yaml\n",
    "import numpy as np\n",
    "import matplotlib.pyplot as plt"
   ]
  },
  {
   "cell_type": "code",
   "execution_count": 20,
   "metadata": {},
   "outputs": [],
   "source": [
    "Axial= [\n",
    "[100,1,0.2939],\n",
    "[1000,510,0.00003348],\n",
    "[1000,300,0.001756], \n",
    "[1000,100,0.002612], \n",
    "[1000,450,0.0004108], \n",
    "[1500,1,0.0006194], \n",
    "[1000,50,0.002685], \n",
    "[2000,1,0.0001751], \n",
    "[1000,1,0.002708], \n",
    "[10,1,0.8192], \n",
    "[750,1,0.006565], \n",
    "[250,1,0.0815 ],\n",
    "[1750,1,0.0003225], \n",
    "[1000,200,0.002297 ],\n",
    "[1000,10,0.002705 ],\n",
    "[1250,1,0.001257 ],\n",
    "[1000,350,0.001377 ],\n",
    "[1000,600,0.000006785], \n",
    "[1000,400,0.0009139 ],\n",
    "[1000,490,0.00008869],\n",
    "[500,1,0.01927]]\n",
    "Vector = [\n",
    "[1750,1,0.0003222],\n",
    "[750,1,0.006436],\n",
    "[1000,450,0.001818],\n",
    "[1000,200,0.002632],\n",
    "[100,1,0.02948],\n",
    "[1000,400,0.00219],\n",
    "[2000,1,0.0001743],\n",
    "[1000,50,0.002669],\n",
    "[500,1,0.01838],\n",
    "[1000,490,0.001053],\n",
    "[1500,1,0.0006182],\n",
    "[1000,300,0.00252],\n",
    "[1000,10,0.002684],\n",
    "[10,1,0.8406],\n",
    "[1000,100,0.002671],\n",
    "[1000,1,0.002689],\n",
    "[1000,350,0.002399],\n",
    "[250,1,0.08151],\n",
    "[1250,1,0.00124],\n",
    "[1000,510,0.0003101],\n",
    "[1000,600,0.00003208]]\n",
    "#Pseudo = [\n",
    "#1000,1,7.919e-06\n",
    "#150,1,0.001507\n",
    "#200,1,0.001271\n",
    "#250,1,0.001027\n",
    "#300,1,0.0008059\n",
    "#450,1,0.0001627\n",
    "#50,1,0.001887]\n",
    "#Scalar = [\n",
    "#750,1,2.61e-05\n",
    "#1000,1,8.372e-06\n",
    "#400,1,0.0003499\n",
    "#500,1,0.0001463\n",
    "#50,1,0.001671\n",
    "#750,1,2.911e-05]"
   ]
  },
  {
   "cell_type": "code",
   "execution_count": 29,
   "metadata": {},
   "outputs": [],
   "source": [
    "MY = []\n",
    "xsec = []\n",
    "for i in Axial:\n",
    "    #print (i[1])\n",
    "    if i[1] != 1: continue\n",
    "    MY.append(i[0])\n",
    "    xsec.append(i[2])"
   ]
  },
  {
   "cell_type": "code",
   "execution_count": 34,
   "metadata": {},
   "outputs": [
    {
     "data": {
      "image/png": "[encoded data removed]",
      "text/plain": [
       "<Figure size 432x288 with 1 Axes>"
      ]
     },
     "metadata": {},
     "output_type": "display_data"
    }
   ],
   "source": [
    "plt.plot(MY,xsec,'ro')\n",
    "plt.title('Axial Vector xsec')\n",
    "plt.yscale('log')"
   ]
  },
  {
   "cell_type": "code",
   "execution_count": 35,
   "metadata": {},
   "outputs": [],
   "source": [
    "MY = []\n",
    "xsec = []\n",
    "for i in Vector:\n",
    "    #print (i[1])\n",
    "    if i[1] != 1: continue\n",
    "    MY.append(i[0])\n",
    "    xsec.append(i[2])"
   ]
  },
  {
   "cell_type": "code",
   "execution_count": 36,
   "metadata": {},
   "outputs": [
    {
     "data": {
      "image/png": "[encoded data removed]",
      "text/plain": [
       "<Figure size 432x288 with 1 Axes>"
      ]
     },
     "metadata": {},
     "output_type": "display_data"
    }
   ],
   "source": [
    "plt.plot(MY,xsec,'ro')\n",
    "plt.title('Vector xsec')\n",
    "plt.yscale('log')"
   ]
  },
  {
   "cell_type": "code",
   "execution_count": null,
   "metadata": {},
   "outputs": [],
   "source": []
  }
 ],
 "metadata": {
  "kernelspec": {
   "display_name": "Python 3",
   "language": "python",
   "name": "python3"
  },
  "language_info": {
   "codemirror_mode": {
    "name": "ipython",
    "version": 3
   },
   "file_extension": ".py",
   "mimetype": "text/x-python",
   "name": "python",
   "nbconvert_exporter": "python",
   "pygments_lexer": "ipython3",
   "version": "3.6.5"
  }
 },
 "nbformat": 4,
 "nbformat_minor": 2
}
